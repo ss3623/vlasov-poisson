{
 "cells": [
  {
   "cell_type": "markdown",
   "id": "2242ab50",
   "metadata": {},
   "source": [
    "illustrating the use of the Hermite Polynomial. This is a simple example. "
   ]
  },
  {
   "cell_type": "code",
   "execution_count": null,
   "id": "0972229e",
   "metadata": {},
   "outputs": [
    {
     "name": "stdout",
     "output_type": "stream",
     "text": [
      "∫ e^(-x²) dx = 1.772454\n",
      "Exact value = 1.772454\n"
     ]
    }
   ],
   "source": [
    "from scipy.special import roots_hermite\n",
    "import numpy as np\n",
    "\n",
    "def gauss_hermite_quad(f, n=5):\n",
    "    nodes, weights = roots_hermite(n)\n",
    "    return np.sum(weights * f(nodes))\n",
    "\n",
    "# Compute ∫ e^(-x²) dx from -∞ to ∞\n",
    "f1 = lambda x: np.ones_like(x)  \n",
    "result = gauss_hermite_quad(f1, n=1)\n",
    "print(f\"∫ e^(-x²) dx = {result:.6f}\")\n",
    "print(f\"Exact value = {np.sqrt(np.pi):.6f}\")"
   ]
  }
 ],
 "metadata": {
  "kernelspec": {
   "display_name": "Python 3",
   "language": "python",
   "name": "python3"
  },
  "language_info": {
   "codemirror_mode": {
    "name": "ipython",
    "version": 3
   },
   "file_extension": ".py",
   "mimetype": "text/x-python",
   "name": "python",
   "nbconvert_exporter": "python",
   "pygments_lexer": "ipython3",
   "version": "3.13.0"
  }
 },
 "nbformat": 4,
 "nbformat_minor": 5
}
